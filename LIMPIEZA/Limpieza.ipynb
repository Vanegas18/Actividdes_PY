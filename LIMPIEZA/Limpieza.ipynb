{
 "cells": [
  {
   "cell_type": "code",
   "execution_count": 1,
   "metadata": {},
   "outputs": [],
   "source": [
    "import pandas as pd\n",
    "import seaborn as sns\n",
    "import numpy as np\n",
    "import matplotlib as plt\n",
    "import matplotlib.pyplot as plt"
   ]
  },
  {
   "cell_type": "code",
   "execution_count": null,
   "metadata": {},
   "outputs": [],
   "source": [
    "# OBTENER EL DATASET\n",
    "\n",
    "data_player = pd.read_csv(\"./data/player_valuations.csv\")\n",
    "data_player.head()"
   ]
  },
  {
   "cell_type": "code",
   "execution_count": null,
   "metadata": {},
   "outputs": [],
   "source": [
    "# CAMBIAR EL NOMBRE DE UNA COLUMNA\n",
    "\n",
    "data_player.rename(columns={\"date\": \"fecha\" }, inplace=True)\n",
    "data_player.rename(columns={\"player_id\": \"id_jugador\" }, inplace=True)\n",
    "data_player.rename(columns={\"market_value_in_eur\": \"precio_en_euros\" }, inplace=True)\n",
    "data_player.rename(columns={\"current_club_id\": \"id_club_actual\" }, inplace=True)\n",
    "data_player.rename(columns={\"player_club_domestic_competition_id\": \"id_competicion_domestica\" }, inplace=True)\n",
    "\n",
    "data_player.head()"
   ]
  },
  {
   "cell_type": "code",
   "execution_count": null,
   "metadata": {},
   "outputs": [],
   "source": [
    "# ORDENAR LOS DATOS\n",
    "\n",
    "data_order_dsc = data_player.sort_values(by=\"precio_en_euros\", ascending=False)\n",
    "data_order_asc = data_player.sort_values(by=\"precio_en_euros\", ascending=True)\n",
    "data_order_dsc.head()"
   ]
  },
  {
   "cell_type": "markdown",
   "metadata": {},
   "source": [
    "ESTADÍSTICA DESCRIPTIVA"
   ]
  },
  {
   "cell_type": "code",
   "execution_count": null,
   "metadata": {},
   "outputs": [],
   "source": [
    "# Configurar formato de visualización para mostrar números completos\n",
    "\n",
    "pd.set_option('display.float_format', lambda x: '%.3f' % x)\n",
    "data_order_dsc.describe()"
   ]
  },
  {
   "cell_type": "code",
   "execution_count": null,
   "metadata": {},
   "outputs": [],
   "source": [
    "# FUNCIONES EN PANDAS\n",
    "\n",
    "print(\"MEDIA: \", data_order_dsc[\"precio_en_euros\"].mean()) # Media\n",
    "print(\"MEDIANA: \", data_order_dsc[\"precio_en_euros\"].median()) # Mediana\n",
    "print(\"MODA: \", data_order_dsc[\"precio_en_euros\"].mode()) # Moda"
   ]
  },
  {
   "cell_type": "code",
   "execution_count": null,
   "metadata": {},
   "outputs": [],
   "source": [
    "# Ajustar la escala del eje Y para mostrar números completos\n",
    "plt.ticklabel_format(style=\"plain\", axis=\"y\")\n",
    "\n",
    "# Boxplot con matplotlib \n",
    "plt.boxplot(data_order_dsc[\"precio_en_euros\"])\n",
    "plt.title(\"Boxplot de precio_en_euros\")\n",
    "plt.show()\n"
   ]
  },
  {
   "cell_type": "code",
   "execution_count": null,
   "metadata": {},
   "outputs": [],
   "source": [
    "# Ajustar la escala del eje Y para mostrar números completos\n",
    "plt.ticklabel_format(style=\"plain\", axis=\"y\")\n",
    "\n",
    "# Histograma con matplotlib\n",
    "plt.hist(data_order_asc[\"precio_en_euros\"], bins=100)\n",
    "plt.title(\"Histograma de precio_en_euros\")\n",
    "plt.show()"
   ]
  },
  {
   "cell_type": "code",
   "execution_count": null,
   "metadata": {},
   "outputs": [],
   "source": [
    "# Calcular el rango intercuartílico (IQR)\n",
    "Q1 = data_order_asc[\"precio_en_euros\"].quantile(0.25)\n",
    "Q3 = data_order_asc[\"precio_en_euros\"].quantile(0.75)\n",
    "IQR = Q3 - Q1\n",
    "\n",
    "# Definir los límites para considerar outliers\n",
    "lower_bound = Q1 - 1.5 * IQR\n",
    "upper_bound = Q3 + 1.5 * IQR\n",
    "\n",
    "# Filtrar el DataFrame para mantener solo los valores dentro de los límites\n",
    "dt_filtered = data_order_asc[(data_order_asc[\"precio_en_euros\"] >= lower_bound) & (data_order_asc[\"precio_en_euros\"] <= upper_bound)]\n",
    "dt_filtered"
   ]
  },
  {
   "cell_type": "code",
   "execution_count": null,
   "metadata": {},
   "outputs": [],
   "source": [
    "# Ajustar la escala del eje Y para mostrar números completos\n",
    "plt.ticklabel_format(style='plain', axis='y')\n",
    "\n",
    "# Boxplot con matplotlib\n",
    "plt.boxplot(dt_filtered[\"precio_en_euros\"])\n",
    "plt.title(\"Boxplot de precio_en_euros\")\n",
    "plt.show()"
   ]
  },
  {
   "cell_type": "code",
   "execution_count": null,
   "metadata": {},
   "outputs": [],
   "source": [
    "# Ajustar la escala del eje Y para mostrar números completos\n",
    "plt.ticklabel_format(style='plain', axis='y')\n",
    "\n",
    "# Boxplot con matplotlib\n",
    "plt.hist(dt_filtered[\"precio_en_euros\"], bins=100)\n",
    "plt.title(\"Histograma de precio_en_euros\")\n",
    "plt.show()"
   ]
  },
  {
   "cell_type": "code",
   "execution_count": null,
   "metadata": {},
   "outputs": [],
   "source": [
    "# 2. Medidas de dispersión\n",
    "\n",
    "# Calcular el rango\n",
    "rango = dt_filtered[\"precio_en_euros\"].max() - dt_filtered[\"precio_en_euros\"].min()\n",
    "rango"
   ]
  }
 ],
 "metadata": {
  "kernelspec": {
   "display_name": "venv",
   "language": "python",
   "name": "python3"
  },
  "language_info": {
   "codemirror_mode": {
    "name": "ipython",
    "version": 3
   },
   "file_extension": ".py",
   "mimetype": "text/x-python",
   "name": "python",
   "nbconvert_exporter": "python",
   "pygments_lexer": "ipython3",
   "version": "3.13.2"
  }
 },
 "nbformat": 4,
 "nbformat_minor": 2
}
