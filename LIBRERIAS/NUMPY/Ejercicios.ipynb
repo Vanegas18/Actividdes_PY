{
 "cells": [
  {
   "cell_type": "code",
   "execution_count": 2,
   "metadata": {},
   "outputs": [],
   "source": [
    "import numpy as np"
   ]
  },
  {
   "cell_type": "code",
   "execution_count": null,
   "metadata": {},
   "outputs": [],
   "source": [
    "# EJERCICIOS DE LA PROFE\n",
    "\n",
    "# Crear un arreglo 3x3 de numpy con todas las entradas igual a True\n",
    "\n",
    "# arreglo = np.array([[True, True, True], [True, True, True], [True, True, True]])\n",
    "# print(arreglo)\n",
    "\n",
    "arr = np.ones((3, 3), dtype=bool)\n",
    "print(arr)"
   ]
  },
  {
   "cell_type": "code",
   "execution_count": null,
   "metadata": {},
   "outputs": [],
   "source": [
    "# Reemplazar todos los numeros impares del siguiente arreglo por el valor de -1. arr = np.array([0, 1, 2, 3, 4, 5, 6, 7, 8, 9])\n",
    "\n",
    "arr = np.array([0, 1, 2, 3, 4, 5, 6, 7, 8, 9])\n",
    "arr[arr % 2 != 0] = -1\n",
    "print(arr)"
   ]
  },
  {
   "cell_type": "code",
   "execution_count": null,
   "metadata": {},
   "outputs": [],
   "source": [
    "# Convertir el Siguiente arreglo 1D a un arreglo 2D. arr = np.array([ 0, 1, 2, 3, 4, 5, 6, 7, 8, 9])\n",
    "\n",
    "arr = np.array([ 0, 1, 2, 3, 4, 5, 6, 7, 8, 9])\n",
    "arr_doble = arr.reshape(2, 5)\n",
    "# arr_doble = arr.reshape(5, 2)\n",
    "\n",
    "\n",
    "print(arr_doble)"
   ]
  }
 ],
 "metadata": {
  "kernelspec": {
   "display_name": "venv",
   "language": "python",
   "name": "python3"
  },
  "language_info": {
   "codemirror_mode": {
    "name": "ipython",
    "version": 3
   },
   "file_extension": ".py",
   "mimetype": "text/x-python",
   "name": "python",
   "nbconvert_exporter": "python",
   "pygments_lexer": "ipython3",
   "version": "3.13.2"
  }
 },
 "nbformat": 4,
 "nbformat_minor": 2
}
