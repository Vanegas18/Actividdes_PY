{
 "cells": [
  {
   "cell_type": "code",
   "execution_count": 1,
   "metadata": {},
   "outputs": [],
   "source": [
    "import numpy as np\n",
    "import pandas as pd"
   ]
  },
  {
   "cell_type": "code",
   "execution_count": null,
   "metadata": {},
   "outputs": [],
   "source": [
    "vector = np.array([1,2,3,4,5,6,7,8,9]) # ARRAY DE 1 DIMENSIÓN\n",
    "print(vector)\n",
    "\n",
    "print(len(vector)) # Contar elementos\n",
    "\n",
    "vector[2] = 4 # Cambiar valores\n",
    "print(vector)\n",
    "\n",
    "for i in vector: # Recorrer arrays\n",
    "  print(i)"
   ]
  },
  {
   "cell_type": "code",
   "execution_count": null,
   "metadata": {},
   "outputs": [],
   "source": [
    "# ATRIBUTOS\n",
    "\n",
    "vector.shape # devuelve la dimensión de una matriz\n",
    "vector.ndim # devuelve la cantidad de dimensiones de una matriz\n",
    "vector.size # devuelve la cantidad total de elementos en una matriz\n",
    "vector.dtype # devuelve el tipo de datos de una matriz\n",
    "vector.itemsize # devuelve el tamaño en bytes de cada elemento de una matriz.\n",
    "vector.data # devuelve los datos de una matriz en un objeto buffer\n"
   ]
  },
  {
   "cell_type": "code",
   "execution_count": null,
   "metadata": {},
   "outputs": [],
   "source": [
    "# MÉTODOS\n",
    "\n",
    "zeros = np.zeros(5) # crea una matriz de ceros con una forma específica.\n",
    "print(zeros)\n",
    "\n",
    "ones = np.ones(5) # crea una matriz de unos con una forma específica.\n",
    "print(ones)\n",
    "\n",
    "full = np.full(5, 5) # crea una matriz con un valor constante con una forma específica.\n",
    "print(full)\n",
    "\n",
    "vector.reshape(9) # cambia la forma de una matriz.\n",
    "\n",
    "vector.transpose() # transpone una matriz.\n",
    "\n",
    "vector.flatten() # convierte una matriz en un array de una dimensión.\n",
    "\n",
    "vector.max() # devuelve el valor máximo de una matriz.\n",
    "\n",
    "vector.min() # devuelve el valor mínimo de una matriz.\n",
    "\n",
    "vector.sum() # devuelve la suma de los elementos de una matriz.\n",
    "\n",
    "vector.mean() # devuelve la media de los elementos de una matriz.\n",
    "\n",
    "vector.std() # devuelve la desviación estándar de los elementos de una matriz.\n",
    "\n",
    "multi = np.dot(ones, zeros) # realiza la multiplicación matricial entre dos matrices.\n",
    "print(multi)\n",
    "\n",
    "rand = np.random.rand(2, 6) # genera una matriz de números aleatorios entre 0 y 1.\n",
    "print(rand)"
   ]
  },
  {
   "cell_type": "code",
   "execution_count": null,
   "metadata": {},
   "outputs": [],
   "source": [
    "# ARRAYS DE 2 DIMENSIONES\n",
    "\n",
    "vector2 = np.array(([1, 2, 5, 4], [9, 5, 5, 7], [6, 0, 0, 8], [3, 9, 6, 5]))\n",
    "print(vector2)\n",
    "\n",
    "print(len(vector2)) # Conteo de valores\n",
    "\n",
    "print(vector2[0,3]) # Indexar elementos\n",
    "\n",
    "vector2[0, 1] = 8 # Cambio de valores\n",
    "print(vector2)\n",
    "\n",
    "vector2.shape # Conteo de columnas y filas\n",
    "\n",
    "vector2.ndim # Dimensión \n",
    "\n",
    "vector_reshape = vector2.reshape(2, 8) # Cambiar dimension de matriz\n",
    "print(vector_reshape)\n",
    "\n",
    "vector_transpose = vector2.transpose() # Transpone los elementos\n",
    "print(vector_transpose)\n",
    "\n",
    "vector_flatten = vector2.flatten()\n",
    "print(vector_flatten)"
   ]
  },
  {
   "cell_type": "code",
   "execution_count": null,
   "metadata": {},
   "outputs": [],
   "source": [
    "# OPERACIONES MATEMÁTICAS\n",
    "\n",
    "vectorUno = np.array([1, 2, 3])\n",
    "vectorDos = np.array([4, 5, 6])\n",
    "\n",
    "# Suma de vectores\n",
    "suma = vectorUno + vectorDos\n",
    "print(suma,\"\\n\")\n",
    "\n",
    "sumaDos = vectorUno + 6\n",
    "print(sumaDos,\"\\n\")\n",
    "\n",
    "# Multiplicación \n",
    "producto = np.dot(vectorUno, vectorDos)\n",
    "print(producto,\"\\n\")"
   ]
  }
 ],
 "metadata": {
  "kernelspec": {
   "display_name": ".venv",
   "language": "python",
   "name": "python3"
  },
  "language_info": {
   "codemirror_mode": {
    "name": "ipython",
    "version": 3
   },
   "file_extension": ".py",
   "mimetype": "text/x-python",
   "name": "python",
   "nbconvert_exporter": "python",
   "pygments_lexer": "ipython3",
   "version": "3.13.2"
  }
 },
 "nbformat": 4,
 "nbformat_minor": 2
}
