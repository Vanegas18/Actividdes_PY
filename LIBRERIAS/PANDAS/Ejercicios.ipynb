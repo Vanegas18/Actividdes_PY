{
 "cells": [
  {
   "cell_type": "code",
   "execution_count": 1,
   "metadata": {},
   "outputs": [],
   "source": [
    "import pandas as pd\n",
    "import numpy as np\n",
    "import matplotlib as mpl"
   ]
  },
  {
   "cell_type": "code",
   "execution_count": null,
   "metadata": {},
   "outputs": [],
   "source": [
    "# Leer la siguiente URL y conocer su informacion principal, mediante el uso los atributos y métodos necesarios de pandas.\n",
    "\n",
    "# URL\n",
    "url = \"https://raw.githubusercontent.com/rubisabel00/ciencias-de-datos-Sena/main/DocumentosNB03/clientes.csv\"\n",
    "\n",
    "# LEER URL\n",
    "df_url = pd.read_csv(url)\n",
    "\n",
    "# INFORMACIÓN\n",
    "df_url.describe()\n"
   ]
  },
  {
   "cell_type": "code",
   "execution_count": null,
   "metadata": {},
   "outputs": [],
   "source": [
    "# Realizar una descripcion estadística de la informacion encontrada y normalizarla (Eliminar los null).\n",
    "\n",
    "df_sin_nulos = df_url.dropna()\n",
    "df_sin_nulos"
   ]
  },
  {
   "cell_type": "code",
   "execution_count": null,
   "metadata": {},
   "outputs": [],
   "source": [
    "# Generar una gráfica representativa de la informacion obtenida.\n",
    "\n",
    "print(df_sin_nulos.plot())"
   ]
  },
  {
   "cell_type": "code",
   "execution_count": null,
   "metadata": {},
   "outputs": [],
   "source": [
    "# Generar dos consultas de agrupamiento de valor agregado a la informacion obtenida.\n",
    "\n",
    "# Consulta 1\n",
    "df_sin_nulos.groupby('Método de pago').count()\n",
    "\n",
    "# Consulta 2\n",
    "df_sin_nulos.groupby('Método de pago').agg({'Nombre' : \"count\"})\n"
   ]
  },
  {
   "cell_type": "code",
   "execution_count": null,
   "metadata": {},
   "outputs": [],
   "source": [
    "# Generar nuevas columnas según sean requeridas para completar la informacion obtenida.\n",
    "\n",
    "# Nueva columna\n",
    "\n",
    "df_sin_nulos['Información de pago'] = df_sin_nulos['Nombre'] + \" Pago con \" + df_sin_nulos['Método de pago']\n",
    "df_sin_nulos"
   ]
  },
  {
   "cell_type": "code",
   "execution_count": null,
   "metadata": {},
   "outputs": [],
   "source": [
    "# Exportar el trabajo realizado en los anteriores items a un archivo de excel.\n",
    "\n",
    "df_sin_nulos.to_excel(\"clientes.xlsx\", index=False)\n",
    "df_to_excel = pd.read_excel(\"clientes.xlsx\")\n",
    "df_to_excel\n"
   ]
  }
 ],
 "metadata": {
  "kernelspec": {
   "display_name": "venv",
   "language": "python",
   "name": "python3"
  },
  "language_info": {
   "codemirror_mode": {
    "name": "ipython",
    "version": 3
   },
   "file_extension": ".py",
   "mimetype": "text/x-python",
   "name": "python",
   "nbconvert_exporter": "python",
   "pygments_lexer": "ipython3",
   "version": "3.13.2"
  }
 },
 "nbformat": 4,
 "nbformat_minor": 2
}
