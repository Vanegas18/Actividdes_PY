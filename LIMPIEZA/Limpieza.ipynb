{
 "cells": [
  {
   "cell_type": "code",
   "execution_count": 1,
   "metadata": {},
   "outputs": [],
   "source": [
    "import pandas as pd\n",
    "import seaborn as sns\n",
    "import numpy as np\n",
    "import matplotlib as plt\n",
    "import matplotlib.pyplot as plt"
   ]
  },
  {
   "cell_type": "code",
   "execution_count": null,
   "metadata": {},
   "outputs": [],
   "source": [
    "# OBTENER EL DATASET\n",
    "\n",
    "data_player = pd.read_csv(\"../LIBRERIAS/datos/player_valuations.csv\")\n",
    "data_player.head()"
   ]
  },
  {
   "cell_type": "code",
   "execution_count": null,
   "metadata": {},
   "outputs": [],
   "source": [
    "# CAMBIAR EL NOMBRE DE UNA COLUMNA\n",
    "\n",
    "data_player.rename(columns={\"date\": \"fecha\" }, inplace=True)\n",
    "data_player.rename(columns={\"player_id\": \"id_jugador\" }, inplace=True)\n",
    "data_player.rename(columns={\"market_value_in_eur\": \"precio_en_euros\" }, inplace=True)\n",
    "data_player.rename(columns={\"current_club_id\": \"id_club_actual\" }, inplace=True)\n",
    "data_player.rename(columns={\"player_club_domestic_competition_id\": \"id_competicion_domestica\" }, inplace=True)\n",
    "\n",
    "data_player.head()"
   ]
  },
  {
   "cell_type": "code",
   "execution_count": null,
   "metadata": {},
   "outputs": [],
   "source": [
    "# ORDENAR LOS DATOS\n",
    "\n",
    "data_order_dsc = data_player.sort_values(by=\"precio_en_euros\", ascending=False)\n",
    "data_order_asc = data_player.sort_values(by=\"precio_en_euros\", ascending=True)\n",
    "data_order_dsc.head()"
   ]
  },
  {
   "cell_type": "markdown",
   "metadata": {},
   "source": [
    "ESTADÍSTICA DESCRIPTIVA"
   ]
  },
  {
   "cell_type": "code",
   "execution_count": null,
   "metadata": {},
   "outputs": [],
   "source": [
    "# Configurar formato de visualización para mostrar números completos\n",
    "\n",
    "pd.set_option('display.float_format', lambda x: '%.3f' % x)\n",
    "data_order_dsc.describe()"
   ]
  },
  {
   "cell_type": "code",
   "execution_count": null,
   "metadata": {},
   "outputs": [],
   "source": [
    "# FUNCIONES EN PANDAS\n",
    "\n",
    "print(\"MEDIA: \", data_order_dsc[\"precio_en_euros\"].mean()) # Media\n",
    "print(\"MEDIANA: \", data_order_dsc[\"precio_en_euros\"].median()) # Mediana\n",
    "print(\"MODA: \", data_order_dsc[\"precio_en_euros\"].mode()) # Moda"
   ]
  },
  {
   "cell_type": "code",
   "execution_count": null,
   "metadata": {},
   "outputs": [],
   "source": [
    "# Ajustar la escala del eje Y para mostrar números completos\n",
    "plt.ticklabel_format(style=\"plain\", axis=\"y\")\n",
    "\n",
    "# Boxplot con matplotlib \n",
    "plt.boxplot(data_order_dsc[\"precio_en_euros\"])\n",
    "plt.title(\"Boxplot de precio_en_euros\")\n",
    "plt.show()\n"
   ]
  },
  {
   "cell_type": "code",
   "execution_count": null,
   "metadata": {},
   "outputs": [],
   "source": [
    "# Ajustar la escala del eje Y para mostrar números completos\n",
    "plt.ticklabel_format(style=\"plain\", axis=\"y\")\n",
    "\n",
    "# Histograma con matplotlib\n",
    "plt.hist(data_order_asc[\"precio_en_euros\"], bins=100)\n",
    "plt.title(\"Histograma de precio_en_euros\")\n",
    "plt.show()"
   ]
  },
  {
   "cell_type": "code",
   "execution_count": 20,
   "metadata": {},
   "outputs": [
    {
     "data": {
      "application/vnd.microsoft.datawrangler.viewer.v0+json": {
       "columns": [
        {
         "name": "index",
         "rawType": "int64",
         "type": "integer"
        },
        {
         "name": "id_jugador",
         "rawType": "int64",
         "type": "integer"
        },
        {
         "name": "fecha",
         "rawType": "object",
         "type": "string"
        },
        {
         "name": "precio_en_euros",
         "rawType": "int64",
         "type": "integer"
        },
        {
         "name": "id_club_actual",
         "rawType": "int64",
         "type": "integer"
        },
        {
         "name": "id_competicion_domestica",
         "rawType": "object",
         "type": "string"
        }
       ],
       "conversionMethod": "pd.DataFrame",
       "ref": "82e00b11-202f-4a42-b1fc-6350ac287e03",
       "rows": [
        [
         "15338",
         "60096",
         "2008-03-17",
         "0",
         "2696",
         "RU1"
        ],
        [
         "370966",
         "36237",
         "2021-10-16",
         "10000",
         "68608",
         "PO1"
        ],
        [
         "429529",
         "621277",
         "2023-02-06",
         "10000",
         "1005",
         "IT1"
        ],
        [
         "429511",
         "456650",
         "2023-02-06",
         "10000",
         "4171",
         "IT1"
        ],
        [
         "429524",
         "537142",
         "2023-02-06",
         "10000",
         "1005",
         "IT1"
        ],
        [
         "429507",
         "432141",
         "2023-02-06",
         "10000",
         "1390",
         "IT1"
        ],
        [
         "374210",
         "406891",
         "2021-12-08",
         "10000",
         "317",
         "NL1"
        ],
        [
         "429513",
         "459100",
         "2023-02-06",
         "10000",
         "398",
         "IT1"
        ],
        [
         "429466",
         "352663",
         "2023-02-06",
         "10000",
         "800",
         "IT1"
        ],
        [
         "429483",
         "390112",
         "2023-02-06",
         "10000",
         "749",
         "IT1"
        ],
        [
         "429481",
         "387017",
         "2023-02-06",
         "10000",
         "4171",
         "IT1"
        ],
        [
         "429410",
         "214579",
         "2023-02-06",
         "10000",
         "12",
         "IT1"
        ],
        [
         "429418",
         "240397",
         "2023-02-06",
         "10000",
         "410",
         "IT1"
        ],
        [
         "429451",
         "340003",
         "2023-02-06",
         "10000",
         "46",
         "IT1"
        ],
        [
         "429372",
         "61863",
         "2023-02-06",
         "10000",
         "1627",
         "IT1"
        ],
        [
         "429349",
         "288000",
         "2023-02-05",
         "10000",
         "862",
         "IT1"
        ],
        [
         "429547",
         "696617",
         "2023-02-07",
         "10000",
         "4083",
         "IT1"
        ],
        [
         "373756",
         "771909",
         "2021-12-06",
         "10000",
         "83678",
         "UKR1"
        ],
        [
         "394006",
         "254290",
         "2022-05-25",
         "10000",
         "443",
         "DK1"
        ],
        [
         "457672",
         "28964",
         "2023-11-29",
         "10000",
         "16245",
         "UKR1"
        ],
        [
         "457716",
         "244309",
         "2023-11-29",
         "10000",
         "873",
         "GB1"
        ],
        [
         "458031",
         "19987",
         "2023-12-04",
         "10000",
         "2672",
         "GR1"
        ],
        [
         "395384",
         "202836",
         "2022-05-31",
         "10000",
         "24",
         "L1"
        ],
        [
         "395198",
         "36235",
         "2022-05-31",
         "10000",
         "3714",
         "RU1"
        ],
        [
         "373505",
         "951293",
         "2021-12-03",
         "10000",
         "41231",
         "RU1"
        ],
        [
         "395209",
         "45220",
         "2022-05-31",
         "10000",
         "3691",
         "RU1"
        ],
        [
         "458040",
         "68560",
         "2023-12-04",
         "10000",
         "2503",
         "PO1"
        ],
        [
         "458038",
         "55911",
         "2023-12-04",
         "10000",
         "862",
         "IT1"
        ],
        [
         "458037",
         "55869",
         "2023-12-04",
         "10000",
         "6676",
         "GR1"
        ],
        [
         "373347",
         "422828",
         "2021-12-03",
         "10000",
         "2698",
         "RU1"
        ],
        [
         "395251",
         "87245",
         "2022-05-31",
         "10000",
         "3060",
         "GR1"
        ],
        [
         "395249",
         "86863",
         "2022-05-31",
         "10000",
         "865",
         "DK1"
        ],
        [
         "436757",
         "647831",
         "2023-06-06",
         "10000",
         "23611",
         "UKR1"
        ],
        [
         "367234",
         "78530",
         "2021-09-01",
         "10000",
         "157",
         "BE1"
        ],
        [
         "392589",
         "311745",
         "2022-05-05",
         "10000",
         "16239",
         "UKR1"
        ],
        [
         "367324",
         "441100",
         "2021-09-04",
         "10000",
         "443",
         "DK1"
        ],
        [
         "367620",
         "45341",
         "2021-09-16",
         "10000",
         "121",
         "RU1"
        ],
        [
         "401169",
         "160681",
         "2022-06-10",
         "10000",
         "1465",
         "PO1"
        ],
        [
         "453910",
         "829949",
         "2023-09-28",
         "10000",
         "8024",
         "PO1"
        ],
        [
         "401024",
         "47571",
         "2022-06-10",
         "10000",
         "3729",
         "RU1"
        ],
        [
         "429535",
         "673193",
         "2023-02-06",
         "10000",
         "12",
         "IT1"
        ],
        [
         "454783",
         "867107",
         "2023-10-12",
         "10000",
         "7378",
         "PO1"
        ],
        [
         "399042",
         "201696",
         "2022-06-07",
         "10000",
         "28643",
         "BE1"
        ],
        [
         "454784",
         "945702",
         "2023-10-12",
         "10000",
         "416",
         "IT1"
        ],
        [
         "455240",
         "972479",
         "2023-10-15",
         "10000",
         "1095",
         "FR1"
        ],
        [
         "393171",
         "222196",
         "2022-05-17",
         "10000",
         "190",
         "DK1"
        ],
        [
         "434354",
         "936824",
         "2023-04-07",
         "10000",
         "6993",
         "UKR1"
        ],
        [
         "434410",
         "224499",
         "2023-04-13",
         "10000",
         "41",
         "L1"
        ],
        [
         "455855",
         "65264",
         "2023-10-20",
         "10000",
         "465",
         "SC1"
        ],
        [
         "377196",
         "227089",
         "2021-12-22",
         "10000",
         "3",
         "L1"
        ]
       ],
       "shape": {
        "columns": 5,
        "rows": 396578
       }
      },
      "text/html": [
       "<div>\n",
       "<style scoped>\n",
       "    .dataframe tbody tr th:only-of-type {\n",
       "        vertical-align: middle;\n",
       "    }\n",
       "\n",
       "    .dataframe tbody tr th {\n",
       "        vertical-align: top;\n",
       "    }\n",
       "\n",
       "    .dataframe thead th {\n",
       "        text-align: right;\n",
       "    }\n",
       "</style>\n",
       "<table border=\"1\" class=\"dataframe\">\n",
       "  <thead>\n",
       "    <tr style=\"text-align: right;\">\n",
       "      <th></th>\n",
       "      <th>id_jugador</th>\n",
       "      <th>fecha</th>\n",
       "      <th>precio_en_euros</th>\n",
       "      <th>id_club_actual</th>\n",
       "      <th>id_competicion_domestica</th>\n",
       "    </tr>\n",
       "  </thead>\n",
       "  <tbody>\n",
       "    <tr>\n",
       "      <th>15338</th>\n",
       "      <td>60096</td>\n",
       "      <td>2008-03-17</td>\n",
       "      <td>0</td>\n",
       "      <td>2696</td>\n",
       "      <td>RU1</td>\n",
       "    </tr>\n",
       "    <tr>\n",
       "      <th>370966</th>\n",
       "      <td>36237</td>\n",
       "      <td>2021-10-16</td>\n",
       "      <td>10000</td>\n",
       "      <td>68608</td>\n",
       "      <td>PO1</td>\n",
       "    </tr>\n",
       "    <tr>\n",
       "      <th>429529</th>\n",
       "      <td>621277</td>\n",
       "      <td>2023-02-06</td>\n",
       "      <td>10000</td>\n",
       "      <td>1005</td>\n",
       "      <td>IT1</td>\n",
       "    </tr>\n",
       "    <tr>\n",
       "      <th>429511</th>\n",
       "      <td>456650</td>\n",
       "      <td>2023-02-06</td>\n",
       "      <td>10000</td>\n",
       "      <td>4171</td>\n",
       "      <td>IT1</td>\n",
       "    </tr>\n",
       "    <tr>\n",
       "      <th>429524</th>\n",
       "      <td>537142</td>\n",
       "      <td>2023-02-06</td>\n",
       "      <td>10000</td>\n",
       "      <td>1005</td>\n",
       "      <td>IT1</td>\n",
       "    </tr>\n",
       "    <tr>\n",
       "      <th>...</th>\n",
       "      <td>...</td>\n",
       "      <td>...</td>\n",
       "      <td>...</td>\n",
       "      <td>...</td>\n",
       "      <td>...</td>\n",
       "    </tr>\n",
       "    <tr>\n",
       "      <th>15355</th>\n",
       "      <td>18644</td>\n",
       "      <td>2008-03-19</td>\n",
       "      <td>3400000</td>\n",
       "      <td>2687</td>\n",
       "      <td>ES1</td>\n",
       "    </tr>\n",
       "    <tr>\n",
       "      <th>15484</th>\n",
       "      <td>40433</td>\n",
       "      <td>2008-03-31</td>\n",
       "      <td>3400000</td>\n",
       "      <td>46</td>\n",
       "      <td>IT1</td>\n",
       "    </tr>\n",
       "    <tr>\n",
       "      <th>15560</th>\n",
       "      <td>15762</td>\n",
       "      <td>2008-04-04</td>\n",
       "      <td>3400000</td>\n",
       "      <td>11282</td>\n",
       "      <td>TR1</td>\n",
       "    </tr>\n",
       "    <tr>\n",
       "      <th>15574</th>\n",
       "      <td>44027</td>\n",
       "      <td>2008-04-04</td>\n",
       "      <td>3400000</td>\n",
       "      <td>1084</td>\n",
       "      <td>ES1</td>\n",
       "    </tr>\n",
       "    <tr>\n",
       "      <th>176267</th>\n",
       "      <td>207715</td>\n",
       "      <td>2016-07-15</td>\n",
       "      <td>3400000</td>\n",
       "      <td>1025</td>\n",
       "      <td>IT1</td>\n",
       "    </tr>\n",
       "  </tbody>\n",
       "</table>\n",
       "<p>396578 rows × 5 columns</p>\n",
       "</div>"
      ],
      "text/plain": [
       "        id_jugador       fecha  precio_en_euros  id_club_actual  \\\n",
       "15338        60096  2008-03-17                0            2696   \n",
       "370966       36237  2021-10-16            10000           68608   \n",
       "429529      621277  2023-02-06            10000            1005   \n",
       "429511      456650  2023-02-06            10000            4171   \n",
       "429524      537142  2023-02-06            10000            1005   \n",
       "...            ...         ...              ...             ...   \n",
       "15355        18644  2008-03-19          3400000            2687   \n",
       "15484        40433  2008-03-31          3400000              46   \n",
       "15560        15762  2008-04-04          3400000           11282   \n",
       "15574        44027  2008-04-04          3400000            1084   \n",
       "176267      207715  2016-07-15          3400000            1025   \n",
       "\n",
       "       id_competicion_domestica  \n",
       "15338                       RU1  \n",
       "370966                      PO1  \n",
       "429529                      IT1  \n",
       "429511                      IT1  \n",
       "429524                      IT1  \n",
       "...                         ...  \n",
       "15355                       ES1  \n",
       "15484                       IT1  \n",
       "15560                       TR1  \n",
       "15574                       ES1  \n",
       "176267                      IT1  \n",
       "\n",
       "[396578 rows x 5 columns]"
      ]
     },
     "execution_count": 20,
     "metadata": {},
     "output_type": "execute_result"
    }
   ],
   "source": [
    "# Calcular el rango intercuartílico (IQR)\n",
    "Q1 = data_order_asc[\"precio_en_euros\"].quantile(0.25)\n",
    "Q3 = data_order_asc[\"precio_en_euros\"].quantile(0.75)\n",
    "IQR = Q3 - Q1\n",
    "\n",
    "# Definir los límites para considerar outliers\n",
    "lower_bound = Q1 - 1.5 * IQR\n",
    "upper_bound = Q3 + 1.5 * IQR\n",
    "\n",
    "# Filtrar el DataFrame para mantener solo los valores dentro de los límites\n",
    "dt_filtered = data_order_asc[(data_order_asc[\"precio_en_euros\"] >= lower_bound) & (data_order_asc[\"precio_en_euros\"] <= upper_bound)]\n",
    "dt_filtered"
   ]
  },
  {
   "cell_type": "code",
   "execution_count": 21,
   "metadata": {},
   "outputs": [
    {
     "data": {
      "image/png": "[encoded data removed]",
      "text/plain": [
       "<Figure size 640x480 with 1 Axes>"
      ]
     },
     "metadata": {},
     "output_type": "display_data"
    }
   ],
   "source": [
    "# Ajustar la escala del eje Y para mostrar números completos\n",
    "plt.ticklabel_format(style='plain', axis='y')\n",
    "\n",
    "# Boxplot con matplotlib\n",
    "plt.boxplot(dt_filtered[\"precio_en_euros\"])\n",
    "plt.title(\"Boxplot de precio_en_euros\")\n",
    "plt.show()"
   ]
  },
  {
   "cell_type": "code",
   "execution_count": 23,
   "metadata": {},
   "outputs": [
    {
     "data": {
      "image/png": "[encoded data removed]",
      "text/plain": [
       "<Figure size 640x480 with 1 Axes>"
      ]
     },
     "metadata": {},
     "output_type": "display_data"
    }
   ],
   "source": [
    "# Ajustar la escala del eje Y para mostrar números completos\n",
    "plt.ticklabel_format(style='plain', axis='y')\n",
    "\n",
    "# Boxplot con matplotlib\n",
    "plt.hist(dt_filtered[\"precio_en_euros\"], bins=100)\n",
    "plt.title(\"Histograma de precio_en_euros\")\n",
    "plt.show()"
   ]
  },
  {
   "cell_type": "code",
   "execution_count": 24,
   "metadata": {},
   "outputs": [
    {
     "data": {
      "text/plain": [
       "np.int64(3400000)"
      ]
     },
     "execution_count": 24,
     "metadata": {},
     "output_type": "execute_result"
    }
   ],
   "source": [
    "# 2. Medidas de dispersión\n",
    "\n",
    "# Calcular el rango\n",
    "rango = dt_filtered[\"precio_en_euros\"].max() - dt_filtered[\"precio_en_euros\"].min()\n",
    "rango"
   ]
  }
 ],
 "metadata": {
  "kernelspec": {
   "display_name": "venv",
   "language": "python",
   "name": "python3"
  },
  "language_info": {
   "codemirror_mode": {
    "name": "ipython",
    "version": 3
   },
   "file_extension": ".py",
   "mimetype": "text/x-python",
   "name": "python",
   "nbconvert_exporter": "python",
   "pygments_lexer": "ipython3",
   "version": "3.13.2"
  }
 },
 "nbformat": 4,
 "nbformat_minor": 2
}
