{
  "cells": [
    {
      "cell_type": "markdown",
      "metadata": {
        "id": "nTbIJmWEeqOC"
      },
      "source": [
        "**<center><h1>EXTRACCIÓN DE DATOS</h1></center>**"
      ]
    },
    {
      "cell_type": "markdown",
      "metadata": {
        "id": "VQKXusb5fKE8"
      },
      "source": [
        "La extracción de datos es una de las tareas más importantes en el análisis de datos. La extracción de datos se refiere a la recuperación de información de una o varias fuentes de datos y su almacenamiento en un formato que pueda ser utilizado para análisis. <br>Puede ser el primer paso en la creación de un conjunto de datos que se utilizará para análisis posteriores.  <br><br>\n",
        "Existen varias herramientas y técnicas que pueden utilizarse para la extracción de datos en análisis de datos, incluyendo: \n",
        "*   Web Scraping\n",
        "*   Bases de Datos\n",
        "*   Archivos de Texto\n",
        "*   APIs\n",
        "*   Otros\n",
        "<br><br>\n",
        "\n",
        "En este notebook, aprenderás cómo extraer datos de páginas web y documentos utilizando técnicas de webscraping en Python. "
      ]
    },
    {
      "cell_type": "markdown",
      "metadata": {
        "id": "HZ2M5Y-GhYkI"
      },
      "source": [
        "**Webscraping** es una técnica que nos permite recuperar información estructurada de una página web y almacenarla en un formato que podamos utilizar para análisis posteriores."
      ]
    },
    {
      "cell_type": "markdown",
      "metadata": {
        "id": "U6ZMmfSTj49V"
      },
      "source": [
        "Inicialmente vamos a obtener los datos de un pdf el cual debes subir en el espacio correspondiente."
      ]
    },
    {
      "cell_type": "markdown",
      "metadata": {
        "id": "6pHkb1sKoxQK"
      },
      "source": [
        "# **Extracción de datos desde un documento**"
      ]
    },
    {
      "cell_type": "code",
      "execution_count": null,
      "metadata": {
        "colab": {
          "base_uri": "https://localhost:8080/"
        },
        "id": "8CWn-lVbkd1e",
        "outputId": "0058b1cc-65bb-46e8-fcdd-28b10f3edffd"
      },
      "outputs": [],
      "source": [
        "#Instalar la librería PyPDF2\n",
        "%pip install PyPDF2"
      ]
    },
    {
      "cell_type": "code",
      "execution_count": 2,
      "metadata": {
        "id": "LAGOKk0LeU6-"
      },
      "outputs": [],
      "source": [
        "#Importamos las librerías\n",
        "import PyPDF2\n",
        "import openpyxl"
      ]
    },
    {
      "cell_type": "code",
      "execution_count": 3,
      "metadata": {
        "id": "eSJL6JgwkHk2"
      },
      "outputs": [],
      "source": [
        "# Crear un archivo de Excel\n",
        "wb = openpyxl.Workbook()"
      ]
    },
    {
      "cell_type": "code",
      "execution_count": null,
      "metadata": {
        "id": "62Pwy-CUkKRp"
      },
      "outputs": [],
      "source": [
        "# Crear una hoja de trabajo\n",
        "ws = wb.active"
      ]
    },
    {
      "cell_type": "code",
      "execution_count": 6,
      "metadata": {
        "id": "2js5BiHmkMeH"
      },
      "outputs": [],
      "source": [
        "# Escribir encabezados de columnas\n",
        "ws['A1'] = 'Documento'\n",
        "ws['B1'] = 'Nombre'\n",
        "ws['C1'] = 'Apellidos'\n",
        "ws['D1'] = 'Área de residencia'\n",
        "ws['E1'] = 'Tipo colegio'\n",
        "ws['F1'] = 'Género'\n",
        "ws['G1'] = 'Estrato'\n",
        "ws['H1'] = 'Nota Matematicas'\n",
        "ws['I1'] = 'Nota Lecto Escritura'\n",
        "ws['J1'] = 'Apoyo económico de padres'\n",
        "ws['K1'] = 'Último grado cursado'"
      ]
    },
    {
      "cell_type": "code",
      "execution_count": null,
      "metadata": {
        "id": "exKjvUXmkRdh"
      },
      "outputs": [],
      "source": [
        "#Abrir y recorrer el archivo pdf\n",
        "with open('./data/Datosaprendices.pdf', 'rb') as pdf_file:\n",
        "    # Crear un objeto de lector de PDF\n",
        "    pdf_reader = PyPDF2.PdfReader(pdf_file)\n",
        "\n",
        "    # Obtener el número de páginas del PDF\n",
        "    num_paginas = len(pdf_reader.pages)\n",
        "\n",
        "    # Iterar sobre todas las páginas y extraer el texto\n",
        "    for pagina in range(num_paginas):\n",
        "        page = pdf_reader.pages[pagina]\n",
        "        text = page.extract_text()   \n",
        "        matriz = text.split()\n",
        "        \n",
        "        row = ws.max_row + 1\n",
        "\n",
        "        for i in range(len(matriz)):\n",
        "            if \"Documento\" in matriz[i]:\n",
        "                documento = matriz[i+1]\n",
        "                ws.cell(row=row, column=1, value=documento)\n",
        "            \n",
        "            if \"Nombre\" in matriz[i]:\n",
        "                nombre = matriz[i+1]\n",
        "                ws.cell(row=row, column=2, value=nombre)\n",
        "            \n",
        "            if \"Apellidos\" in matriz[i]:\n",
        "                apellidos = matriz[i+1]\n",
        "                ws.cell(row=row, column=3, value=apellidos)\n",
        "            \n",
        "            if \"residencia\" in matriz[i]:\n",
        "                area = matriz[i+1]\n",
        "                ws.cell(row=row, column=4, value=area)\n",
        "            \n",
        "            if \"colegio\" in matriz[i]:\n",
        "                colegio = matriz[i+1]\n",
        "                ws.cell(row=row, column=5, value=colegio)\n",
        "            \n",
        "            if \"Género\" in matriz[i]:\n",
        "                genero = matriz[i+1]\n",
        "                ws.cell(row=row, column=6, value=genero)\n",
        "            \n",
        "            if \"Estrato\" in matriz[i]:\n",
        "                estrato = matriz[i+1]\n",
        "                ws.cell(row=row, column=7, value=estrato)\n",
        "            \n",
        "            if \"Matemáticas\" in matriz[i]:\n",
        "                matematicas = matriz[i+1]\n",
        "                ws.cell(row=row, column=8, value=matematicas)\n",
        "            \n",
        "            if \"Escritura\" in matriz[i]:\n",
        "                lecto = matriz[i+1]\n",
        "                ws.cell(row=row, column=9, value=lecto)\n",
        "            \n",
        "            if \"padres\" in matriz[i]:\n",
        "                padres = matriz[i+1]\n",
        "                ws.cell(row=row, column=10, value=padres)\n",
        "            \n",
        "            if \"cursad\" in matriz[i]:\n",
        "                grado = matriz[i+2]\n",
        "                ws.cell(row=row, column=11, value=grado)   "
      ]
    },
    {
      "cell_type": "code",
      "execution_count": null,
      "metadata": {
        "id": "9Mv3K8BOlL7V"
      },
      "outputs": [],
      "source": [
        "# Escribir el archivo de Excel        \n",
        "wb.save('./data/datos_pdf.xlsx') "
      ]
    },
    {
      "cell_type": "markdown",
      "metadata": {
        "id": "PNKgqOyBmvzl"
      },
      "source": [
        "# **Extracción de datos de una web**"
      ]
    },
    {
      "cell_type": "code",
      "execution_count": 12,
      "metadata": {
        "id": "KtuJyI71m25U"
      },
      "outputs": [],
      "source": [
        "import requests\n",
        "import pandas as pd\n",
        "from bs4 import BeautifulSoup"
      ]
    },
    {
      "cell_type": "code",
      "execution_count": 13,
      "metadata": {
        "id": "oeUwL3Ofm6cS"
      },
      "outputs": [],
      "source": [
        "# Descargar la página web\n",
        "url = \"https://ingdanielbs.github.io/Datos/\"\n",
        "response = requests.get(url)"
      ]
    },
    {
      "cell_type": "code",
      "execution_count": 14,
      "metadata": {
        "id": "4KtoxNwem-DS"
      },
      "outputs": [],
      "source": [
        "# Analizar el HTML con BeautifulSoup\n",
        "soup = BeautifulSoup(response.content, \"html.parser\")"
      ]
    },
    {
      "cell_type": "code",
      "execution_count": 15,
      "metadata": {
        "id": "fw9zG3aZnAdv"
      },
      "outputs": [],
      "source": [
        "# Encontrar la tabla y obtener los datos\n",
        "table = soup.find(\"table\")"
      ]
    },
    {
      "cell_type": "code",
      "execution_count": 17,
      "metadata": {
        "id": "ovuL9H57nDn1"
      },
      "outputs": [],
      "source": [
        "if table is not None:\n",
        "    rows = table.find_all(\"tr\")\n",
        "    # Resto del código aquí\n",
        "    data = []\n",
        "    for row in rows:\n",
        "        cols = row.find_all(\"td\")\n",
        "        cols = [col.text.strip() for col in cols]\n",
        "        data.append(cols)\n",
        "\n",
        "    # Convertir los datos en un DataFrame de Pandas\n",
        "    df = pd.DataFrame(data, columns=[\"Documento\", \"Nombre\", \"Apellidos\", \"Direccción\", \"Teléfono\", \"Edad\", \"Estatura\"])\n",
        "\n",
        "    # Escribir el DataFrame en un archivo de Excel\n",
        "    df.to_excel(\"datos.xlsx\", index=False)\n",
        "else:\n",
        "    print(\"La tabla no fue encontrada\")"
      ]
    },
    {
      "cell_type": "markdown",
      "metadata": {
        "id": "VvqrKa75nWom"
      },
      "source": [
        "A continuación vamos a generar un nuevo dataset con la unión de los archivos creados anteriormente."
      ]
    },
    {
      "cell_type": "code",
      "execution_count": 18,
      "metadata": {
        "id": "NFOEwnj5nhde"
      },
      "outputs": [],
      "source": [
        "# Cargar los datos de ambos archivos\n",
        "datos = pd.read_excel('datos.xlsx')\n",
        "datos_pdf = pd.read_excel('datos_pdf.xlsx')\n",
        "\n",
        "# Unir los datos basados en la columna \"Documento\", especificando qué columnas incluir\n",
        "datos_unidos = pd.merge(datos, datos_pdf[['Documento', 'Área de residencia', 'Tipo colegio', 'Género', 'Estrato', 'Nota Matematicas', 'Nota Lecto Escritura', 'Apoyo económico de padres', 'Último grado cursado']], on='Documento')\n",
        "\n",
        "# Guardar los datos unidos en un nuevo archivo de Excel\n",
        "datos_unidos.to_excel('Dataset_final.xlsx', index=False)"
      ]
    }
  ],
  "metadata": {
    "colab": {
      "provenance": []
    },
    "kernelspec": {
      "display_name": "venv",
      "language": "python",
      "name": "python3"
    },
    "language_info": {
      "codemirror_mode": {
        "name": "ipython",
        "version": 3
      },
      "file_extension": ".py",
      "mimetype": "text/x-python",
      "name": "python",
      "nbconvert_exporter": "python",
      "pygments_lexer": "ipython3",
      "version": "3.13.2"
    }
  },
  "nbformat": 4,
  "nbformat_minor": 0
}
