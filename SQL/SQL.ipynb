{
 "cells": [
  {
   "cell_type": "code",
   "execution_count": 1,
   "metadata": {},
   "outputs": [],
   "source": [
    "import sqlite3\n",
    "import pandas as pd"
   ]
  },
  {
   "cell_type": "markdown",
   "metadata": {},
   "source": [
    "Pregunta 1: ¿Cuál es el ingreso total generado por el negocio?"
   ]
  },
  {
   "cell_type": "code",
   "execution_count": null,
   "metadata": {},
   "outputs": [],
   "source": [
    "conexion = sqlite3.connect(\"./datos/sanoyfresco.db\")\n",
    "\n",
    "total_ventas = pd.read_sql_query(\"\"\"\n",
    "    SELECT SUM(precio_total) AS total_ventas FROM tickets\n",
    "\"\"\", conexion)      \n",
    "\n",
    "print(\"Ingresos totales: \", total_ventas['total_ventas'][0])\n",
    "\n",
    "conexion.close                                 "
   ]
  },
  {
   "cell_type": "markdown",
   "metadata": {},
   "source": [
    "Pregunta 2: ¿Cómo ha sido la tendencia de ingresos mensuales?"
   ]
  },
  {
   "cell_type": "code",
   "execution_count": null,
   "metadata": {},
   "outputs": [],
   "source": [
    "conexion = sqlite3.connect(\"./datos/sanoyfresco.db\")\n",
    "\n",
    "ingresos_mensuales = pd.read_sql_query(\"\"\"\n",
    "    SELECT strftime('%Y-%m', fecha) AS mes, \n",
    "           SUM(precio_total) AS ingresos_mensuales \n",
    "    FROM tickets \n",
    "    GROUP BY mes \n",
    "    ORDER BY mes\n",
    "\"\"\", conexion)\n",
    "\n",
    "print(ingresos_mensuales)\n",
    "\n",
    "conexion.close()"
   ]
  },
  {
   "cell_type": "markdown",
   "metadata": {},
   "source": [
    "Pregunta 3: ¿Cuál es el rendimiento de cada departamento en términos de ventas?"
   ]
  },
  {
   "cell_type": "code",
   "execution_count": null,
   "metadata": {},
   "outputs": [],
   "source": [
    "# Conexión a la base de datos\n",
    "conexion = sqlite3.connect(\"./datos/sanoyfresco.db\")\n",
    "\n",
    "# Lista de departamentos a consultar\n",
    "departamentos = [4, 16, 20, 7]\n",
    "\n",
    "# Diccionario para almacenar los resultados\n",
    "resultados = {}\n",
    "\n",
    "for depto in departamentos:\n",
    "    query = f\"\"\"\n",
    "        SELECT SUM(precio_total) AS total_precio \n",
    "        FROM tickets \n",
    "        WHERE id_departamento = {depto}\n",
    "    \"\"\"\n",
    "    resultado = pd.read_sql_query(query, conexion)\n",
    "    resultados[depto] = resultado['total_precio'][0]\n",
    "\n",
    "for depto, total in resultados.items():\n",
    "    print(f\"Ingresos para el departamento {depto}: {total}\")\n",
    "\n",
    "conexion.close()"
   ]
  },
  {
   "cell_type": "markdown",
   "metadata": {},
   "source": [
    "Pregunta 4: ¿Cómo se distribuyen las ventas entre las diferentes secciones?"
   ]
  },
  {
   "cell_type": "code",
   "execution_count": null,
   "metadata": {},
   "outputs": [],
   "source": [
    "import sqlite3\n",
    "import pandas as pd\n",
    "\n",
    "conexion = sqlite3.connect(\"./datos/sanoyfresco.db\")\n",
    "\n",
    "# Lista de secciones a consultar\n",
    "secciones = [24, 123, 83, 67, 53, 84, 115, 16]\n",
    "\n",
    "# Diccionario para almacenar los resultados\n",
    "resultados = {}\n",
    "\n",
    "for seccion in secciones:\n",
    "    query = f\"\"\"\n",
    "        SELECT SUM(precio_total) AS total_precio \n",
    "        FROM tickets \n",
    "        WHERE id_seccion = {seccion}\n",
    "    \"\"\"\n",
    "    resultado = pd.read_sql_query(query, conexion)\n",
    "    resultados[seccion] = resultado['total_precio'][0]\n",
    "\n",
    "for seccion, total in resultados.items():\n",
    "    print(f\"Ingresos para la sección {seccion}: {total}\")\n",
    "\n",
    "conexion.close()\n"
   ]
  },
  {
   "cell_type": "markdown",
   "metadata": {},
   "source": [
    "Pregunta 5: ¿Cuáles son los 10 productos más vendidos en cantidad?"
   ]
  },
  {
   "cell_type": "code",
   "execution_count": null,
   "metadata": {},
   "outputs": [],
   "source": [
    "conexion = sqlite3.connect(\"./datos/sanoyfresco.db\")\n",
    "\n",
    "top_productos = pd.read_sql_query(\"\"\"\n",
    "    SELECT nombre_producto, SUM(cantidad) AS total_vendido \n",
    "    FROM tickets \n",
    "    GROUP BY nombre_producto \n",
    "    ORDER BY total_vendido DESC \n",
    "    LIMIT 10\n",
    "\"\"\", conexion)\n",
    "\n",
    "print(top_productos)\n",
    "\n",
    "conexion.close()"
   ]
  },
  {
   "cell_type": "markdown",
   "metadata": {},
   "source": [
    "Pregunta 6: ¿Qué 10 productos generan más ingresos?"
   ]
  },
  {
   "cell_type": "code",
   "execution_count": null,
   "metadata": {},
   "outputs": [],
   "source": [
    "conexion = sqlite3.connect(\"./datos/sanoyfresco.db\")\n",
    "\n",
    "top_productos = pd.read_sql_query(\"\"\"\n",
    "    SELECT nombre_producto, SUM(precio_total) AS total_vendido \n",
    "    FROM tickets \n",
    "    GROUP BY nombre_producto \n",
    "    ORDER BY total_vendido DESC \n",
    "    LIMIT 10\n",
    "\"\"\", conexion)\n",
    "\n",
    "print(top_productos)\n",
    "\n",
    "conexion.close()"
   ]
  },
  {
   "cell_type": "markdown",
   "metadata": {},
   "source": [
    "Pregunta 7: ¿Quiénes son los 20 clientes que más compran en términos de ingresos?"
   ]
  },
  {
   "cell_type": "code",
   "execution_count": null,
   "metadata": {},
   "outputs": [],
   "source": [
    "conexion = sqlite3.connect(\"./datos/sanoyfresco.db\")\n",
    "\n",
    "top_clientes = pd.read_sql_query(\"\"\"\n",
    "    SELECT id_cliente, SUM(precio_total) AS clientes_compras \n",
    "    FROM tickets \n",
    "    GROUP BY id_cliente \n",
    "    ORDER BY clientes_compras DESC \n",
    "    LIMIT 20\n",
    "\"\"\", conexion)\n",
    "\n",
    "print(top_clientes)\n",
    "\n",
    "conexion.close()"
   ]
  },
  {
   "cell_type": "markdown",
   "metadata": {},
   "source": [
    "Pregunta 8: ¿Cuál es la compra media por cliente?"
   ]
  },
  {
   "cell_type": "code",
   "execution_count": null,
   "metadata": {},
   "outputs": [],
   "source": [
    "conexion = sqlite3.connect(\"./datos/sanoyfresco.db\")\n",
    "\n",
    "compra_media = pd.read_sql_query(\"\"\"\n",
    "    SELECT AVG(media_cliente) as compra_media \n",
    "    FROM (\n",
    "        SELECT id_cliente, SUM(precio_total) AS media_cliente \n",
    "        FROM tickets \n",
    "        GROUP BY id_cliente\n",
    "    )\n",
    "\"\"\", conexion)\n",
    "\n",
    "print(\"Compra media por cliente:\", compra_media['compra_media'][0])\n",
    "\n",
    "conexion.close()"
   ]
  },
  {
   "cell_type": "markdown",
   "metadata": {},
   "source": [
    "Pregunta 9: ¿Cuántos pedidos totales se han realizado?"
   ]
  },
  {
   "cell_type": "code",
   "execution_count": null,
   "metadata": {},
   "outputs": [],
   "source": [
    "conexion = sqlite3.connect(\"./datos/sanoyfresco.db\")\n",
    "\n",
    "total_pedidos = pd.read_sql_query(\"\"\"\n",
    "    SELECT COUNT(DISTINCT id_pedido) AS total_pedidos FROM tickets;\n",
    "\"\"\", conexion)\n",
    "\n",
    "print(\"Total de pedidos realizados:\", total_pedidos['total_pedidos'][0])\n",
    "\n",
    "conexion.close()"
   ]
  },
  {
   "cell_type": "markdown",
   "metadata": {},
   "source": [
    "Pregunta 10: ¿Cuál es el valor promedio por pedido?"
   ]
  },
  {
   "cell_type": "code",
   "execution_count": null,
   "metadata": {},
   "outputs": [],
   "source": [
    "conexion = sqlite3.connect(\"./datos/sanoyfresco.db\")\n",
    "\n",
    "valor_promedio_pedido = pd.read_sql_query(\"\"\"\n",
    "    SELECT (SUM(precio_total) * 1.0) / COUNT(DISTINCT id_pedido) AS valor_promedio_pedido \n",
    "    FROM tickets;\n",
    "\"\"\", conexion)\n",
    "\n",
    "print(\"Valor promedio por pedido:\", valor_promedio_pedido['valor_promedio_pedido'][0])\n",
    "\n",
    "conexion.close()"
   ]
  }
 ],
 "metadata": {
  "kernelspec": {
   "display_name": "venv",
   "language": "python",
   "name": "python3"
  },
  "language_info": {
   "codemirror_mode": {
    "name": "ipython",
    "version": 3
   },
   "file_extension": ".py",
   "mimetype": "text/x-python",
   "name": "python",
   "nbconvert_exporter": "python",
   "pygments_lexer": "ipython3",
   "version": "3.13.2"
  }
 },
 "nbformat": 4,
 "nbformat_minor": 2
}
