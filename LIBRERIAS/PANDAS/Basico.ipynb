{
 "cells": [
  {
   "cell_type": "code",
   "execution_count": 1,
   "metadata": {},
   "outputs": [],
   "source": [
    "import pandas as pd\n",
    "import numpy as np\n",
    "import matplotlib as mpl"
   ]
  },
  {
   "cell_type": "code",
   "execution_count": null,
   "metadata": {},
   "outputs": [],
   "source": [
    "dt_file_csv = pd.read_csv(\"../data/CalificacionesTXT.csv\")\n",
    "\n",
    "# dt_file_csv # MOSTRAR TODOS LOS DATOS\n",
    "\n",
    "dt_file_csv.head() # Devuelve las primeras filas de un DataFrame.\n",
    "\n",
    "dt_file_csv.tail() # Devuelve las últimas filas de un DataFrame.\n",
    "\n",
    "# dt_file_csv.info() # Muestra información sobre un DataFrame, incluyendo su tamaño y tipo de datos.\n",
    "\n",
    "# dt_file_csv.describe() # Proporciona estadísticas descriptivas para un DataFrame, como la media, la desviación estándar, el mínimo y el máximo.\n",
    "\n",
    "# FILTROS\n",
    "# print(dt_file_csv['Programa       ']) # MOSTRAR SOLO LA COLUMNA\n",
    "# print(dt_file_csv['Programa       '].value_counts()) # AGRUPAR VALORES\n",
    "\n",
    "# VARIOS FILTROS\n",
    "\n",
    "# filtro_columna = dt_file_csv[(dt_file_csv['Programa       '] == \"Contabilidad   \") & (dt_file_csv[\"Genero    \"] == \"Masculino \")]\n",
    "# filtro_columna \n",
    "\n",
    "filtro_columna2 = dt_file_csv[(dt_file_csv[\"Programa       \"] == \"Contabilidad   \") & (dt_file_csv[\"Matematicas \"] > \"4\")]\n",
    "filtro_columna2\n",
    "\n"
   ]
  },
  {
   "cell_type": "code",
   "execution_count": null,
   "metadata": {},
   "outputs": [],
   "source": [
    "dt_netflix_csv = pd.read_csv(\"../data/netflix_titles.csv\")\n",
    "\n",
    "# dt_netflix_csv.head()\n",
    "\n",
    "filtro_netflix = dt_netflix_csv[(dt_netflix_csv[\"type\"] == \"Movie\") & (dt_netflix_csv[\"release_year\"] > 2020) & (dt_netflix_csv[\"duration\"] < \"150\")]\n",
    "\n",
    "filtro_netflix"
   ]
  },
  {
   "cell_type": "code",
   "execution_count": null,
   "metadata": {},
   "outputs": [],
   "source": [
    "# ELIMINAR DATOS DUPLICADOS\n",
    "\n",
    "dt_netflix_csv.drop_duplicates()\n",
    "\n",
    "dt_netflix_csv.info()"
   ]
  },
  {
   "cell_type": "code",
   "execution_count": null,
   "metadata": {},
   "outputs": [],
   "source": [
    "# REEMPLAZAR VALORES NULOS\n",
    "\n",
    "dt_reemplazo = dt_netflix_csv.fillna(0.0)\n",
    "dt_reemplazo"
   ]
  },
  {
   "cell_type": "code",
   "execution_count": null,
   "metadata": {},
   "outputs": [],
   "source": [
    "# ELIMINAR FILAS CON VALORES NULOS\n",
    "\n",
    "dt_sin_nulos = dt_netflix_csv.dropna()\n",
    "dt_sin_nulos"
   ]
  },
  {
   "cell_type": "code",
   "execution_count": null,
   "metadata": {},
   "outputs": [],
   "source": [
    "# GRÁFICOS\n",
    "\n",
    "print(dt_sin_nulos.plot())"
   ]
  },
  {
   "cell_type": "code",
   "execution_count": null,
   "metadata": {},
   "outputs": [],
   "source": [
    "# ACTIVIDAD ------ IMPORTAR CON URLS\n",
    "\n",
    "# URL DE GitHub\n",
    "\n",
    "# urlMala = \"https://github.com/rubisabel00/ciencias-de-datos-Sena/blob/main/DocumentosNB03/clientes.csv\"\n",
    "urlGit = \"https://raw.githubusercontent.com/rubisabel00/ciencias-de-datos-Sena/main/DocumentosNB03/clientes.csv\"\n",
    "\n",
    "dt_url_clientes = pd.read_csv(urlGit, encoding='UTF-8')\n",
    "\n",
    "# print(dt_url_clientes)\n",
    "# print(dt_url_clientes.head()) # PRIMEROS\n",
    "# print(dt_url_clientes.tail()) # ÚLTIMOS\n",
    "# print(dt_url_clientes.info()) # INFORMACIÓN\n",
    "# print(dt_url_clientes.describe()) # DESCRIPCIÓN\n",
    "\n",
    "# URL DE GOOGLE DRIVE\n",
    "\n",
    "urlDrive = \"https://docs.google.com/spreadsheets/d/1moLdvf866ECViic0l8MFNIxIMV6ZxGKI/export?format=xlsx\"\n",
    "\n",
    "dt_url_drive = pd.read_excel(urlDrive, index_col=0)\n",
    "\n",
    "# print(dt_url_drive)\n",
    "# print(dt_url_drive.head()) # PRIMEROS\n",
    "# print(dt_url_drive.tail()) # ÚLTIMOS\n",
    "# print(dt_url_drive.info()) # INFORMACIÓN\n",
    "# print(dt_url_drive.describe()) # DESCRIPCIÓN\n"
   ]
  }
 ],
 "metadata": {
  "kernelspec": {
   "display_name": "venv",
   "language": "python",
   "name": "python3"
  },
  "language_info": {
   "codemirror_mode": {
    "name": "ipython",
    "version": 3
   },
   "file_extension": ".py",
   "mimetype": "text/x-python",
   "name": "python",
   "nbconvert_exporter": "python",
   "pygments_lexer": "ipython3",
   "version": "3.13.2"
  }
 },
 "nbformat": 4,
 "nbformat_minor": 2
}
